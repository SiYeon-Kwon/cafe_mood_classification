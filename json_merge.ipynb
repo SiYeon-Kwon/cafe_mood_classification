{
 "cells": [
  {
   "cell_type": "code",
   "execution_count": 1,
   "metadata": {},
   "outputs": [],
   "source": [
    "import glob, json\n",
    "\n",
    "data = []\n",
    "for f in glob.glob(\"C:/Windows/System32/kwontest/experiment/train/retro/*.json\"):\n",
    "    with open(f, encoding=\"utf-8\") as infile:\n",
    "        data.append(json.load(infile))\n",
    "\n",
    "with open(\"C:/Windows/System32/kwontest/experiment/train/retro/merge_4.json\",'w', encoding=\"utf-8\") as outfile:\n",
    "  json.dump(data, outfile)"
   ]
  },
  {
   "cell_type": "code",
   "execution_count": 4,
   "metadata": {},
   "outputs": [],
   "source": [
    "import json\n",
    "\n",
    "with open('C:/Windows/System32/kwontest/experiment/train/classic/merge_1.json') as file_1:\n",
    "    data1 = json.load(file_1)\n",
    "\n",
    "with open('C:/Windows/System32/kwontest/experiment/train/industrial/merge_2.json') as file_2:\n",
    "    data2 = json.load(file_2)\n",
    "\n",
    "with open('C:/Windows/System32/kwontest/experiment/train/natural/merge_3.json') as file_3:\n",
    "    data3 = json.load(file_3)\n",
    "\n",
    "with open('C:/Windows/System32/kwontest/experiment/train/retro/merge_4.json') as file_4:\n",
    "    data4 = json.load(file_4)\n",
    "    \n",
    "with open('C:/Windows/System32/kwontest/experiment/train/mergefile_without_retro.json', 'w') as new_file:\n",
    "    json.dump(data1+data2+data3, new_file)"
   ]
  },
  {
   "cell_type": "code",
   "execution_count": null,
   "metadata": {},
   "outputs": [],
   "source": []
  }
 ],
 "metadata": {
  "kernelspec": {
   "display_name": "Python 3",
   "language": "python",
   "name": "python3"
  },
  "language_info": {
   "codemirror_mode": {
    "name": "ipython",
    "version": 3
   },
   "file_extension": ".py",
   "mimetype": "text/x-python",
   "name": "python",
   "nbconvert_exporter": "python",
   "pygments_lexer": "ipython3",
   "version": "3.8.5"
  }
 },
 "nbformat": 4,
 "nbformat_minor": 4
}
